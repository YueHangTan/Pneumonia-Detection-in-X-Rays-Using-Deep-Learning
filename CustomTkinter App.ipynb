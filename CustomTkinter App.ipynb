{
 "cells": [
  {
   "cell_type": "markdown",
   "metadata": {},
   "source": [
    "# **Capstone Project**\n",
    "## **Project Title: Pneumonia Detection in X-Rays Using Deep Learning**\n",
    "### **App for Chest X-Ray Deep Learning Model Deployment**"
   ]
  },
  {
   "cell_type": "markdown",
   "metadata": {},
   "source": [
    "**Author's Profile**:\n",
    "- Name: Tan Yue Hang\n",
    "- Academic Qualification:\n",
    "    - Master of Engineering Science (M.Eng.Sc.)\n",
    "    - Bachelor of Mechanical Engineering\n",
    "- Certification & Achievements:\n",
    "    - Six Sigma Green Belt\n",
    "    - Academic publications\n",
    "- Profession: Senior Process R&D Engineer\n",
    "- Current Employer: Silicon Box\n",
    "- Email: tan_hang2003@yahoo.com\n",
    "- LinkedIn: [Yue Hang Tan](https://www.linkedin.com/in/yuehangtan/)"
   ]
  },
  {
   "cell_type": "code",
   "execution_count": 1,
   "metadata": {},
   "outputs": [],
   "source": [
    "import os\n",
    "\n",
    "import tkinter as tk\n",
    "from customtkinter import *\n",
    "from tkinter import filedialog\n",
    "from PIL import Image, ImageTk\n",
    "\n",
    "import numpy as np\n",
    "from tensorflow.keras.preprocessing.image import load_img, img_to_array\n",
    "from keras.models import load_model"
   ]
  },
  {
   "cell_type": "markdown",
   "metadata": {},
   "source": [
    "## 1. Define the Root Variable"
   ]
  },
  {
   "cell_type": "code",
   "execution_count": 2,
   "metadata": {},
   "outputs": [
    {
     "data": {
      "text/plain": [
       "''"
      ]
     },
     "execution_count": 2,
     "metadata": {},
     "output_type": "execute_result"
    }
   ],
   "source": [
    "# Instatiate a window\n",
    "root = CTk()\n",
    "\n",
    "# Define the size of the window\n",
    "root.geometry(\"800x500\")\n",
    "\n",
    "# Precent the window from being resizable\n",
    "root.resizable(False, False)\n",
    "\n",
    "# Define the title of the GUI\n",
    "root.title(\"Pneumonia X-Ray Image Classifier\")"
   ]
  },
  {
   "cell_type": "markdown",
   "metadata": {},
   "source": [
    "## 2. Define an Image Loading Function for the **Browse Button**"
   ]
  },
  {
   "cell_type": "code",
   "execution_count": 3,
   "metadata": {},
   "outputs": [],
   "source": [
    "# Create a label for the image outside the browse function\n",
    "# This way the Label widget only created once, so that everytime when a new image is imported the previous image will be removed.\n",
    "# If this Label widget is created within the browse() function then all the newly imported images will keep stacking at the bottom.\n",
    "panel = tk.Label(root)\n",
    "# panel.pack()\n",
    "\n",
    "def browse():\n",
    "    global img  # We use a global variable to hold the image\n",
    "    global file_path\n",
    "\n",
    "    file_path = tk.filedialog.askopenfilename()  # Open the file dialog\n",
    "    img = Image.open(file_path)  # Open the image\n",
    "    img = img.resize((450, 450), Image.LANCZOS)  # Resize the image\n",
    "    img = ImageTk.PhotoImage(img)  # Convert the image to a Tkinter-compatible PhotoImage\n",
    "    # panel = tk.Label(root, image=img)  # Create a label with the image\n",
    "    panel.config(image=img)  # Update the image of the label\n",
    "    panel.image = img  # Keep a reference to the image (needed to prevent Python's garbage collection from deleting it)\n",
    "    panel.pack()  # Pack the label after the image is configured\n"
   ]
  },
  {
   "cell_type": "markdown",
   "metadata": {},
   "source": [
    "## 2. Perform Image Classifications with the Trained Model"
   ]
  },
  {
   "cell_type": "code",
   "execution_count": 4,
   "metadata": {},
   "outputs": [],
   "source": [
    "# Load the trained model from the SAVED DIRECTORY\n",
    "model = load_model(r\" \")"
   ]
  },
  {
   "cell_type": "code",
   "execution_count": 5,
   "metadata": {},
   "outputs": [],
   "source": [
    "# Define a function to load an image, pre-process the image, and perform prediction\n",
    "def load_predict(image_path):\n",
    "    \"\"\" \n",
    "    1. Pass the image path.\n",
    "    \"\"\"\n",
    "    # Load the image\n",
    "    img = load_img(image_path, target_size=(448, 448))\n",
    "\n",
    "    # Convert the image into tensors\n",
    "    img_array = img_to_array(img)\n",
    "\n",
    "    # Normalize the image\n",
    "    # This is because the model was trained with images with rescale=1./255.\n",
    "    img_array = img_array / 255.0\n",
    "\n",
    "    # Keras models expect the images to be loaded in batches, hence add one more (batch) dimension to it\n",
    "    img_batch = np.expand_dims(img_array, axis=0)\n",
    "\n",
    "    # Perform prediction\n",
    "    pred = model.predict(img_batch)\n",
    "\n",
    "    if pred < 0.5:\n",
    "        result = \"Healthy\"\n",
    "        confidence = f\"{round((1-pred[0][0])*100, 3)}%\"\n",
    "        image_loc = f\"Image path: {image_path}\"\n",
    "    else:\n",
    "        result = \"Pneumonic\"\n",
    "        confidence = f\"{round(pred[0][0]*100, 3)}%\"\n",
    "        image_loc = f\"Image path: {image_path}\"\n",
    "\n",
    "    return result, confidence, image_loc"
   ]
  },
  {
   "cell_type": "markdown",
   "metadata": {},
   "source": [
    "## 3. Build a GUI app with CustomTkinter"
   ]
  },
  {
   "cell_type": "code",
   "execution_count": 6,
   "metadata": {},
   "outputs": [],
   "source": [
    "# Set the header\n",
    "label_1 = CTkLabel(\n",
    "    root,\n",
    "    text=\"Input a Chest X-Ray Image to Make Classification\",\n",
    "    font=(\"Ariel\", 22)\n",
    ")\n",
    "label_1.pack()\n",
    "\n",
    "# Add a browse button to import an image\n",
    "button_browse = CTkButton(\n",
    "    root,\n",
    "    text=\"Browse\",\n",
    "    font=(\"Ariel\", 16),\n",
    "    command=browse\n",
    ")\n",
    "button_browse.place(x=600, y=80)\n",
    "\n",
    "\n",
    "prediction_var = tk.StringVar()  # Create a StringVar variable to hold the prediction\n",
    "confidence_var = tk.StringVar()  # Create a StringVar variable to hold the confidence\n",
    "\n",
    "# Add a button to make prediction\n",
    "def make_prediction():\n",
    "    global prediction, confidence, image_loc\n",
    "    prediction, confidence, image_loc = load_predict(file_path)\n",
    "    prediction_var.set(f\"Class: {prediction}\")  # Update the StringVar variable with the prediction\n",
    "    confidence_var.set(f\"Confidence: {confidence}\")  # Update the StringVar variable with the confidence\n",
    "    # print(f\"Class: {prediction}\")\n",
    "    # print(f\"Confidence: {confidence}\")\n",
    "\n",
    "button_predict = CTkButton(\n",
    "    root,\n",
    "    text=\"Make Prediction\",\n",
    "    font=(\"Ariel\", 16),\n",
    "    command=make_prediction\n",
    ")\n",
    "button_predict.place(x=600, y=200)\n",
    "\n",
    "\n",
    "# Add label to display the results\n",
    "label_prediction = CTkLabel(\n",
    "    root,\n",
    "    textvariable=prediction_var,\n",
    "    font=(\"Ariel\", 16)\n",
    ")\n",
    "label_prediction.place(x=600, y=260)\n",
    "\n",
    "label_confidence = CTkLabel(\n",
    "    root,\n",
    "    textvariable=confidence_var,\n",
    "    font=(\"Ariel\", 16)\n",
    ")\n",
    "label_confidence.place(x=600, y=290)\n",
    "\n",
    "\n",
    "\n",
    "\n",
    "# Indicate the creator of the app\n",
    "label_2 = CTkLabel(\n",
    "    root,\n",
    "    text=\"Created by: Yue Hang Tan\",\n",
    "    font=(\"Ariel\", 12)\n",
    ")\n",
    "label_2.place(x=600, y=350)\n",
    "\n"
   ]
  },
  {
   "cell_type": "code",
   "execution_count": 7,
   "metadata": {},
   "outputs": [
    {
     "name": "stdout",
     "output_type": "stream",
     "text": [
      "1/1 [==============================] - 7s 7s/step\n",
      "1/1 [==============================] - 0s 36ms/step\n",
      "1/1 [==============================] - 0s 39ms/step\n",
      "1/1 [==============================] - 0s 35ms/step\n",
      "1/1 [==============================] - 0s 35ms/step\n",
      "1/1 [==============================] - 0s 48ms/step\n",
      "1/1 [==============================] - 0s 40ms/step\n",
      "1/1 [==============================] - 0s 39ms/step\n",
      "1/1 [==============================] - 0s 41ms/step\n",
      "1/1 [==============================] - 0s 46ms/step\n",
      "1/1 [==============================] - 0s 40ms/step\n",
      "1/1 [==============================] - 0s 41ms/step\n",
      "1/1 [==============================] - 0s 39ms/step\n"
     ]
    }
   ],
   "source": [
    "# Run the event loop to keep the window open\n",
    "root.mainloop()"
   ]
  }
 ],
 "metadata": {
  "kernelspec": {
   "display_name": "tf",
   "language": "python",
   "name": "python3"
  },
  "language_info": {
   "codemirror_mode": {
    "name": "ipython",
    "version": 3
   },
   "file_extension": ".py",
   "mimetype": "text/x-python",
   "name": "python",
   "nbconvert_exporter": "python",
   "pygments_lexer": "ipython3",
   "version": "3.9.18"
  }
 },
 "nbformat": 4,
 "nbformat_minor": 2
}
